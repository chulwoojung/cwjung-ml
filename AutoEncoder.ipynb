{
  "nbformat": 4,
  "nbformat_minor": 0,
  "metadata": {
    "colab": {
      "name": "AutoEncoder.ipynb",
      "version": "0.3.2",
      "provenance": [],
      "include_colab_link": true
    },
    "kernelspec": {
      "name": "python3",
      "display_name": "Python 3"
    }
  },
  "cells": [
    {
      "cell_type": "markdown",
      "metadata": {
        "id": "view-in-github",
        "colab_type": "text"
      },
      "source": [
        "<a href=\"https://colab.research.google.com/github/chulwoojung/cwjung-ml/blob/master/AutoEncoder.ipynb\" target=\"_parent\"><img src=\"https://colab.research.google.com/assets/colab-badge.svg\" alt=\"Open In Colab\"/></a>"
      ]
    },
    {
      "cell_type": "code",
      "metadata": {
        "id": "sG9qUHVRp4eR",
        "colab_type": "code",
        "colab": {}
      },
      "source": [
        "# 필요 라이브러리 및 함수 불러오기\n",
        "import tensorflow as tf\n",
        "import numpy as np\n",
        "import sys\n",
        "sys.path.insert(0, '/content/gdrive/My Drive/SKT_Lab')\n",
        "from utils.load_data import data_loading\n",
        "from utils.load_data import get_titles\n",
        "from utils.evaluation import evaluation"
      ],
      "execution_count": 0,
      "outputs": []
    },
    {
      "cell_type": "code",
      "metadata": {
        "id": "go5RyYOqqDJI",
        "colab_type": "code",
        "outputId": "ae563f51-430e-4feb-999f-6107a900740b",
        "colab": {
          "base_uri": "https://localhost:8080/",
          "height": 153
        }
      },
      "source": [
        "# 데이터 불러오기\n",
        "train_matrix, test_matrix, num_users, num_items = data_loading()\n",
        "\n",
        "# 하이퍼 파라미터 설정\n",
        "hidden_dim = 30\n",
        "learning_rate = 0.01\n",
        "training_epochs = 10 # 총 4번 학습"
      ],
      "execution_count": 0,
      "outputs": [
        {
          "output_type": "stream",
          "text": [
            "\n",
            " train_ml-100k\n",
            "max user id 942\n",
            "max item id 1681\n",
            "\n",
            " test_ml_100k\n",
            "max user id 942\n",
            "max item id 1670\n"
          ],
          "name": "stdout"
        }
      ]
    },
    {
      "cell_type": "code",
      "metadata": {
        "id": "yOQ9rcMvt6vh",
        "colab_type": "code",
        "colab": {}
      },
      "source": [
        "# tensorflow를 이용하여, AE 모델 만들기\n",
        "\n",
        "# 플레이스홀더 구성\n",
        "X = tf.placeholder(\"float\", [None, num_items])\n",
        "\n"
      ],
      "execution_count": 0,
      "outputs": []
    },
    {
      "cell_type": "code",
      "metadata": {
        "id": "nDpoZ_oUuA81",
        "colab_type": "code",
        "outputId": "129403e0-072e-4a90-ff4f-11fc5c2ef55a",
        "colab": {
          "base_uri": "https://localhost:8080/",
          "height": 534
        }
      },
      "source": [
        "# 파라미터 초기화\n",
        "encoder_w = tf.get_variable(\"encoder_w\", shape=[num_items, hidden_dim], initializer=tf.contrib.layers.xavier_initializer())\n",
        "encoder_b = tf.Variable(name=\"encoder_b\", initial_value=tf.zeros([hidden_dim]))\n",
        "\n",
        "decoder_w = tf.get_variable(\"decoder_w\", shape=[hidden_dim, num_items], initializer=tf.contrib.layers.xavier_initializer())\n",
        "decoder_b = tf.Variable(name=\"decoder_b\", initial_value=tf.zeros([num_items]))"
      ],
      "execution_count": 0,
      "outputs": [
        {
          "output_type": "error",
          "ename": "ValueError",
          "evalue": "ignored",
          "traceback": [
            "\u001b[0;31m---------------------------------------------------------------------------\u001b[0m",
            "\u001b[0;31mValueError\u001b[0m                                Traceback (most recent call last)",
            "\u001b[0;32m<ipython-input-56-860fd0441c4a>\u001b[0m in \u001b[0;36m<module>\u001b[0;34m()\u001b[0m\n\u001b[0;32m----> 1\u001b[0;31m \u001b[0mencoder_w\u001b[0m \u001b[0;34m=\u001b[0m \u001b[0mtf\u001b[0m\u001b[0;34m.\u001b[0m\u001b[0mget_variable\u001b[0m\u001b[0;34m(\u001b[0m\u001b[0;34m\"encoder_w\"\u001b[0m\u001b[0;34m,\u001b[0m \u001b[0mshape\u001b[0m\u001b[0;34m=\u001b[0m\u001b[0;34m[\u001b[0m\u001b[0mnum_items\u001b[0m\u001b[0;34m,\u001b[0m \u001b[0mhidden_dim\u001b[0m\u001b[0;34m]\u001b[0m\u001b[0;34m,\u001b[0m \u001b[0minitializer\u001b[0m\u001b[0;34m=\u001b[0m\u001b[0mtf\u001b[0m\u001b[0;34m.\u001b[0m\u001b[0mcontrib\u001b[0m\u001b[0;34m.\u001b[0m\u001b[0mlayers\u001b[0m\u001b[0;34m.\u001b[0m\u001b[0mxavier_initializer\u001b[0m\u001b[0;34m(\u001b[0m\u001b[0;34m)\u001b[0m\u001b[0;34m)\u001b[0m\u001b[0;34m\u001b[0m\u001b[0;34m\u001b[0m\u001b[0m\n\u001b[0m\u001b[1;32m      2\u001b[0m \u001b[0mencoder_b\u001b[0m \u001b[0;34m=\u001b[0m \u001b[0mtf\u001b[0m\u001b[0;34m.\u001b[0m\u001b[0mVariable\u001b[0m\u001b[0;34m(\u001b[0m\u001b[0mname\u001b[0m\u001b[0;34m=\u001b[0m\u001b[0;34m\"encoder_b\"\u001b[0m\u001b[0;34m,\u001b[0m \u001b[0minitial_value\u001b[0m\u001b[0;34m=\u001b[0m\u001b[0mtf\u001b[0m\u001b[0;34m.\u001b[0m\u001b[0mzeros\u001b[0m\u001b[0;34m(\u001b[0m\u001b[0;34m[\u001b[0m\u001b[0mhidden_dim\u001b[0m\u001b[0;34m]\u001b[0m\u001b[0;34m)\u001b[0m\u001b[0;34m)\u001b[0m\u001b[0;34m\u001b[0m\u001b[0;34m\u001b[0m\u001b[0m\n\u001b[1;32m      3\u001b[0m \u001b[0;34m\u001b[0m\u001b[0m\n\u001b[1;32m      4\u001b[0m \u001b[0mdecoder_w\u001b[0m \u001b[0;34m=\u001b[0m \u001b[0mtf\u001b[0m\u001b[0;34m.\u001b[0m\u001b[0mget_variable\u001b[0m\u001b[0;34m(\u001b[0m\u001b[0;34m\"decoder_w\"\u001b[0m\u001b[0;34m,\u001b[0m \u001b[0mshape\u001b[0m\u001b[0;34m=\u001b[0m\u001b[0;34m[\u001b[0m\u001b[0mhidden_dim\u001b[0m\u001b[0;34m,\u001b[0m \u001b[0mnum_items\u001b[0m\u001b[0;34m]\u001b[0m\u001b[0;34m,\u001b[0m \u001b[0minitializer\u001b[0m\u001b[0;34m=\u001b[0m\u001b[0mtf\u001b[0m\u001b[0;34m.\u001b[0m\u001b[0mcontrib\u001b[0m\u001b[0;34m.\u001b[0m\u001b[0mlayers\u001b[0m\u001b[0;34m.\u001b[0m\u001b[0mxavier_initializer\u001b[0m\u001b[0;34m(\u001b[0m\u001b[0;34m)\u001b[0m\u001b[0;34m)\u001b[0m\u001b[0;34m\u001b[0m\u001b[0;34m\u001b[0m\u001b[0m\n\u001b[1;32m      5\u001b[0m \u001b[0mdecoder_b\u001b[0m \u001b[0;34m=\u001b[0m \u001b[0mtf\u001b[0m\u001b[0;34m.\u001b[0m\u001b[0mVariable\u001b[0m\u001b[0;34m(\u001b[0m\u001b[0mname\u001b[0m\u001b[0;34m=\u001b[0m\u001b[0;34m\"decoder_b\"\u001b[0m\u001b[0;34m,\u001b[0m \u001b[0minitial_value\u001b[0m\u001b[0;34m=\u001b[0m\u001b[0mtf\u001b[0m\u001b[0;34m.\u001b[0m\u001b[0mzeros\u001b[0m\u001b[0;34m(\u001b[0m\u001b[0;34m[\u001b[0m\u001b[0mnum_items\u001b[0m\u001b[0;34m]\u001b[0m\u001b[0;34m)\u001b[0m\u001b[0;34m)\u001b[0m\u001b[0;34m\u001b[0m\u001b[0;34m\u001b[0m\u001b[0m\n",
            "\u001b[0;32m/usr/local/lib/python3.6/dist-packages/tensorflow/python/ops/variable_scope.py\u001b[0m in \u001b[0;36mget_variable\u001b[0;34m(name, shape, dtype, initializer, regularizer, trainable, collections, caching_device, partitioner, validate_shape, use_resource, custom_getter, constraint, synchronization, aggregation)\u001b[0m\n\u001b[1;32m   1477\u001b[0m       \u001b[0mconstraint\u001b[0m\u001b[0;34m=\u001b[0m\u001b[0mconstraint\u001b[0m\u001b[0;34m,\u001b[0m\u001b[0;34m\u001b[0m\u001b[0;34m\u001b[0m\u001b[0m\n\u001b[1;32m   1478\u001b[0m       \u001b[0msynchronization\u001b[0m\u001b[0;34m=\u001b[0m\u001b[0msynchronization\u001b[0m\u001b[0;34m,\u001b[0m\u001b[0;34m\u001b[0m\u001b[0;34m\u001b[0m\u001b[0m\n\u001b[0;32m-> 1479\u001b[0;31m       aggregation=aggregation)\n\u001b[0m\u001b[1;32m   1480\u001b[0m \u001b[0;34m\u001b[0m\u001b[0m\n\u001b[1;32m   1481\u001b[0m \u001b[0;34m\u001b[0m\u001b[0m\n",
            "\u001b[0;32m/usr/local/lib/python3.6/dist-packages/tensorflow/python/ops/variable_scope.py\u001b[0m in \u001b[0;36mget_variable\u001b[0;34m(self, var_store, name, shape, dtype, initializer, regularizer, reuse, trainable, collections, caching_device, partitioner, validate_shape, use_resource, custom_getter, constraint, synchronization, aggregation)\u001b[0m\n\u001b[1;32m   1218\u001b[0m           \u001b[0mconstraint\u001b[0m\u001b[0;34m=\u001b[0m\u001b[0mconstraint\u001b[0m\u001b[0;34m,\u001b[0m\u001b[0;34m\u001b[0m\u001b[0;34m\u001b[0m\u001b[0m\n\u001b[1;32m   1219\u001b[0m           \u001b[0msynchronization\u001b[0m\u001b[0;34m=\u001b[0m\u001b[0msynchronization\u001b[0m\u001b[0;34m,\u001b[0m\u001b[0;34m\u001b[0m\u001b[0;34m\u001b[0m\u001b[0m\n\u001b[0;32m-> 1220\u001b[0;31m           aggregation=aggregation)\n\u001b[0m\u001b[1;32m   1221\u001b[0m \u001b[0;34m\u001b[0m\u001b[0m\n\u001b[1;32m   1222\u001b[0m   def _get_partitioned_variable(self,\n",
            "\u001b[0;32m/usr/local/lib/python3.6/dist-packages/tensorflow/python/ops/variable_scope.py\u001b[0m in \u001b[0;36mget_variable\u001b[0;34m(self, name, shape, dtype, initializer, regularizer, reuse, trainable, collections, caching_device, partitioner, validate_shape, use_resource, custom_getter, constraint, synchronization, aggregation)\u001b[0m\n\u001b[1;32m    545\u001b[0m           \u001b[0mconstraint\u001b[0m\u001b[0;34m=\u001b[0m\u001b[0mconstraint\u001b[0m\u001b[0;34m,\u001b[0m\u001b[0;34m\u001b[0m\u001b[0;34m\u001b[0m\u001b[0m\n\u001b[1;32m    546\u001b[0m           \u001b[0msynchronization\u001b[0m\u001b[0;34m=\u001b[0m\u001b[0msynchronization\u001b[0m\u001b[0;34m,\u001b[0m\u001b[0;34m\u001b[0m\u001b[0;34m\u001b[0m\u001b[0m\n\u001b[0;32m--> 547\u001b[0;31m           aggregation=aggregation)\n\u001b[0m\u001b[1;32m    548\u001b[0m \u001b[0;34m\u001b[0m\u001b[0m\n\u001b[1;32m    549\u001b[0m   def _get_partitioned_variable(self,\n",
            "\u001b[0;32m/usr/local/lib/python3.6/dist-packages/tensorflow/python/ops/variable_scope.py\u001b[0m in \u001b[0;36m_true_getter\u001b[0;34m(name, shape, dtype, initializer, regularizer, reuse, trainable, collections, caching_device, partitioner, validate_shape, use_resource, constraint, synchronization, aggregation)\u001b[0m\n\u001b[1;32m    497\u001b[0m           \u001b[0mconstraint\u001b[0m\u001b[0;34m=\u001b[0m\u001b[0mconstraint\u001b[0m\u001b[0;34m,\u001b[0m\u001b[0;34m\u001b[0m\u001b[0;34m\u001b[0m\u001b[0m\n\u001b[1;32m    498\u001b[0m           \u001b[0msynchronization\u001b[0m\u001b[0;34m=\u001b[0m\u001b[0msynchronization\u001b[0m\u001b[0;34m,\u001b[0m\u001b[0;34m\u001b[0m\u001b[0;34m\u001b[0m\u001b[0m\n\u001b[0;32m--> 499\u001b[0;31m           aggregation=aggregation)\n\u001b[0m\u001b[1;32m    500\u001b[0m \u001b[0;34m\u001b[0m\u001b[0m\n\u001b[1;32m    501\u001b[0m     \u001b[0;31m# Set trainable value based on synchronization value.\u001b[0m\u001b[0;34m\u001b[0m\u001b[0;34m\u001b[0m\u001b[0;34m\u001b[0m\u001b[0m\n",
            "\u001b[0;32m/usr/local/lib/python3.6/dist-packages/tensorflow/python/ops/variable_scope.py\u001b[0m in \u001b[0;36m_get_single_variable\u001b[0;34m(self, name, shape, dtype, initializer, regularizer, partition_info, reuse, trainable, collections, caching_device, validate_shape, use_resource, constraint, synchronization, aggregation)\u001b[0m\n\u001b[1;32m    846\u001b[0m         \u001b[0mtb\u001b[0m \u001b[0;34m=\u001b[0m \u001b[0;34m[\u001b[0m\u001b[0mx\u001b[0m \u001b[0;32mfor\u001b[0m \u001b[0mx\u001b[0m \u001b[0;32min\u001b[0m \u001b[0mtb\u001b[0m \u001b[0;32mif\u001b[0m \u001b[0;34m\"tensorflow/python\"\u001b[0m \u001b[0;32mnot\u001b[0m \u001b[0;32min\u001b[0m \u001b[0mx\u001b[0m\u001b[0;34m[\u001b[0m\u001b[0;36m0\u001b[0m\u001b[0;34m]\u001b[0m\u001b[0;34m]\u001b[0m\u001b[0;34m[\u001b[0m\u001b[0;34m:\u001b[0m\u001b[0;36m3\u001b[0m\u001b[0;34m]\u001b[0m\u001b[0;34m\u001b[0m\u001b[0;34m\u001b[0m\u001b[0m\n\u001b[1;32m    847\u001b[0m         raise ValueError(\"%s Originally defined at:\\n\\n%s\" % (err_msg, \"\".join(\n\u001b[0;32m--> 848\u001b[0;31m             traceback.format_list(tb))))\n\u001b[0m\u001b[1;32m    849\u001b[0m       \u001b[0mfound_var\u001b[0m \u001b[0;34m=\u001b[0m \u001b[0mself\u001b[0m\u001b[0;34m.\u001b[0m\u001b[0m_vars\u001b[0m\u001b[0;34m[\u001b[0m\u001b[0mname\u001b[0m\u001b[0;34m]\u001b[0m\u001b[0;34m\u001b[0m\u001b[0;34m\u001b[0m\u001b[0m\n\u001b[1;32m    850\u001b[0m       \u001b[0;32mif\u001b[0m \u001b[0;32mnot\u001b[0m \u001b[0mshape\u001b[0m\u001b[0;34m.\u001b[0m\u001b[0mis_compatible_with\u001b[0m\u001b[0;34m(\u001b[0m\u001b[0mfound_var\u001b[0m\u001b[0;34m.\u001b[0m\u001b[0mget_shape\u001b[0m\u001b[0;34m(\u001b[0m\u001b[0;34m)\u001b[0m\u001b[0;34m)\u001b[0m\u001b[0;34m:\u001b[0m\u001b[0;34m\u001b[0m\u001b[0;34m\u001b[0m\u001b[0m\n",
            "\u001b[0;31mValueError\u001b[0m: Variable encoder_w already exists, disallowed. Did you mean to set reuse=True or reuse=tf.AUTO_REUSE in VarScope? Originally defined at:\n\n  File \"<ipython-input-4-860fd0441c4a>\", line 1, in <module>\n    encoder_w = tf.get_variable(\"encoder_w\", shape=[num_items, hidden_dim], initializer=tf.contrib.layers.xavier_initializer())\n  File \"/usr/local/lib/python3.6/dist-packages/IPython/core/interactiveshell.py\", line 2882, in run_code\n    exec(code_obj, self.user_global_ns, self.user_ns)\n  File \"/usr/local/lib/python3.6/dist-packages/IPython/core/interactiveshell.py\", line 2822, in run_ast_nodes\n    if self.run_code(code, result):\n"
          ]
        }
      ]
    },
    {
      "cell_type": "code",
      "metadata": {
        "id": "KJ7KdiDnuHEb",
        "colab_type": "code",
        "colab": {}
      },
      "source": [
        "# AE 만들기\n",
        "# encoder\n",
        "hidden_layer = tf.nn.sigmoid(tf.matmul(X, encoder_w) + encoder_b)\n",
        "\n",
        "# decoder\n",
        "output = tf.nn.sigmoid(tf.matmul(hidden_layer, decoder_w) + decoder_b)"
      ],
      "execution_count": 0,
      "outputs": []
    },
    {
      "cell_type": "code",
      "metadata": {
        "id": "IR9R_g1_utLu",
        "colab_type": "code",
        "colab": {}
      },
      "source": [
        "# 예측 값과 실제 값의 차이 설정\n",
        "loss = -tf.reduce_sum(X * tf.log(output + 1e-10) + (1 - X) * tf.log(1 - output + 1e-10) )\n",
        "\n",
        "# 학습 방법 설정(gradient descent방법 설정)\n",
        "optimizer = tf.train.AdamOptimizer(learning_rate).minimize(loss)"
      ],
      "execution_count": 0,
      "outputs": []
    },
    {
      "cell_type": "code",
      "metadata": {
        "id": "YjPQ2wR-vFYc",
        "colab_type": "code",
        "colab": {}
      },
      "source": [
        "# 세션 생성 및 파라미터 초기화\n",
        "sess = tf.Session()\n",
        "sess.run(tf.global_variables_initializer()) # 파라미터 초기화"
      ],
      "execution_count": 0,
      "outputs": []
    },
    {
      "cell_type": "code",
      "metadata": {
        "id": "J7gdBKK0vKP5",
        "colab_type": "code",
        "outputId": "6539ee92-a88f-4c5c-a6fc-d79d7a9dfdd6",
        "colab": {
          "base_uri": "https://localhost:8080/",
          "height": 187
        }
      },
      "source": [
        "# 모델 학습\n",
        "for epoch in range(training_epochs):\n",
        "    avg_loss = 0\n",
        "\n",
        "    # 한 명의 사용자 시청 정보를 이용하여 AE를 학습 함\n",
        "    for u_id in range(num_users):\n",
        "        _, l = sess.run([optimizer, loss], feed_dict={X: [train_matrix[u_id]]})\n",
        "        avg_loss += l\n",
        "    avg_loss /= num_users\n",
        "\n",
        "    print(epoch, \"loss=\", avg_loss)"
      ],
      "execution_count": 0,
      "outputs": [
        {
          "output_type": "stream",
          "text": [
            "0 loss= 329.1861190876804\n",
            "1 loss= 280.52104421637847\n",
            "2 loss= 256.39309614308945\n",
            "3 loss= 241.39226531577893\n",
            "4 loss= 228.55371985329296\n",
            "5 loss= 218.3394885745812\n",
            "6 loss= 208.49026439096363\n",
            "7 loss= 202.41224367823352\n",
            "8 loss= 197.66986409629263\n",
            "9 loss= 193.48405137168263\n"
          ],
          "name": "stdout"
        }
      ]
    },
    {
      "cell_type": "code",
      "metadata": {
        "id": "Nnfr3WVLvPzl",
        "colab_type": "code",
        "colab": {}
      },
      "source": [
        "# AE를 이용하여 전체 항목의 값을 예측함\n",
        "predicted_matrix = np.zeros((num_users, num_items))\n",
        "for u_id in range(0, num_users):\n",
        "    predicted_matrix[u_id] = sess.run(output, feed_dict={X: [train_matrix[u_id]]})[0]"
      ],
      "execution_count": 0,
      "outputs": []
    },
    {
      "cell_type": "code",
      "metadata": {
        "id": "LT1xU3WVvaA5",
        "colab_type": "code",
        "outputId": "6bd4170b-8050-4e0e-b111-7694f2713736",
        "colab": {
          "base_uri": "https://localhost:8080/",
          "height": 51
        }
      },
      "source": [
        "predicted_matrix[100]"
      ],
      "execution_count": 0,
      "outputs": [
        {
          "output_type": "execute_result",
          "data": {
            "text/plain": [
              "array([0.52115071, 0.14270073, 0.08510602, ..., 0.00117478, 0.00120598,\n",
              "       0.00118517])"
            ]
          },
          "metadata": {
            "tags": []
          },
          "execution_count": 52
        }
      ]
    },
    {
      "cell_type": "code",
      "metadata": {
        "id": "NiPrF8mavgo3",
        "colab_type": "code",
        "outputId": "c73b3384-b6aa-4b13-dbfd-1535ef9b0c8c",
        "colab": {
          "base_uri": "https://localhost:8080/",
          "height": 51
        }
      },
      "source": [
        "# 평가\n",
        "hit50, hit100 = evaluation(predicted_matrix, train_matrix, test_matrix)\n",
        "print(\"Hit@50:  \", hit50)\n",
        "print(\"Hit@100: \", hit100)"
      ],
      "execution_count": 0,
      "outputs": [
        {
          "output_type": "stream",
          "text": [
            "Hit@50:   0.2014846235418876\n",
            "Hit@100:  0.3064687168610817\n"
          ],
          "name": "stdout"
        }
      ]
    },
    {
      "cell_type": "code",
      "metadata": {
        "id": "EPBzeNifvmhx",
        "colab_type": "code",
        "outputId": "148f3344-6050-47a9-fe1a-3f2b3b5c18b7",
        "colab": {
          "base_uri": "https://localhost:8080/",
          "height": 748
        }
      },
      "source": [
        "# 시청 항목과 추천 항목 출력\n",
        "print(\"-----------------------------------------------------\")\n",
        "u_id = 201\n",
        "titles = get_titles()\n",
        "\n",
        "print(\"사용자 시청 영화\")\n",
        "rated_items = np.where(train_matrix[u_id] == 1)[0]\n",
        "rated_items = rated_items[0:20]\n",
        "for i in rated_items:\n",
        "    print(titles[i])\n",
        "\n",
        "print(\"-----------------------------------------------------\")\n",
        "\n",
        "print(\"추천 영화 Top 20\")\n",
        "predicted_matrix[u_id, rated_items] = 0\n",
        "topN_items = np.argsort(predicted_matrix[u_id])\n",
        "topN_items = topN_items[::-1]\n",
        "topN_items = topN_items[0:20]\n",
        "for i in topN_items:\n",
        "    print(titles[i])"
      ],
      "execution_count": 0,
      "outputs": [
        {
          "output_type": "stream",
          "text": [
            "-----------------------------------------------------\n",
            "사용자 시청 영화\n",
            "Toy Story (1995)\n",
            "Terminator 2: Judgment Day (1991)\n",
            "empire Strikes Back, The (1980)\n",
            "Princess Bride, The (1987)\n",
            "Amadeus (1984)\n",
            "Terminator, The (1984)\n",
            "Back to the Future (1985)\n",
            "Kolya (1996)\n",
            "Contact (1997)\n",
            "Full Monty, The (1997)\n",
            "emma (1996)\n",
            "english Patient, The (1996)\n",
            "Schindler's List (1993)\n",
            "e.T. the extra-Terrestrial (1982)\n",
            "Apartment, The (1960)\n",
            "Maltese Falcon, The (1941)\n",
            "Boot, Das (1981)\n",
            "Local Hero (1983)\n",
            "It Happened One Night (1934)\n",
            "-----------------------------------------------------\n",
            "추천 영화 Top 20\n",
            "Toy Story (1995)\n",
            "Maltese Falcon, The (1941)\n",
            "empire Strikes Back, The (1980)\n",
            "Kolya (1996)\n",
            "Amadeus (1984)\n",
            "Contact (1997)\n",
            "Terminator, The (1984)\n",
            "Full Monty, The (1997)\n",
            "e.T. the extra-Terrestrial (1982)\n",
            "Apartment, The (1960)\n",
            "emma (1996)\n",
            "english Patient, The (1996)\n",
            "Back to the Future (1985)\n",
            "Boot, Das (1981)\n",
            "Local Hero (1983)\n",
            "Schindler's List (1993)\n",
            "Terminator 2: Judgment Day (1991)\n",
            "It Happened One Night (1934)\n",
            "Princess Bride, The (1987)\n",
            "Return of the Jedi (1983)\n"
          ],
          "name": "stdout"
        }
      ]
    },
    {
      "cell_type": "code",
      "metadata": {
        "id": "d2cxqstAvrOy",
        "colab_type": "code",
        "colab": {}
      },
      "source": [
        ""
      ],
      "execution_count": 0,
      "outputs": []
    }
  ]
}